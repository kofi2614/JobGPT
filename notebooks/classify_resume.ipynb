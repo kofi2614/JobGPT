{
 "cells": [
  {
   "attachments": {},
   "cell_type": "markdown",
   "metadata": {},
   "source": [
    "### Setup"
   ]
  },
  {
   "cell_type": "code",
   "execution_count": 1,
   "metadata": {},
   "outputs": [],
   "source": [
    "import os\n",
    "import dotenv\n",
    "import json\n",
    "from pydantic import BaseModel, Field, validator\n",
    "from langchain import PromptTemplate\n",
    "from langchain.chat_models import ChatOpenAI\n",
    "from langchain.chains import LLMChain\n",
    "from langchain.output_parsers import PydanticOutputParser\n",
    "from jobgpt.resume_processor.resume_reader import ResumeReader\n",
    "from langchain.prompts import (\n",
    "    ChatPromptTemplate,\n",
    "    SystemMessagePromptTemplate,\n",
    "    HumanMessagePromptTemplate\n",
    ")\n",
    "from langchain.chains import SequentialChain\n",
    "from typing import Optional,List\n",
    "import langchain\n",
    "from jobgpt.utils.llm import count_tokens\n",
    "import difflib\n",
    "dotenv.load_dotenv(\".env\", override=True)\n",
    "from langchain.schema import AIMessage, HumanMessage, SystemMessage"
   ]
  },
  {
   "cell_type": "code",
   "execution_count": 2,
   "metadata": {},
   "outputs": [],
   "source": [
    "# initialize the models\n",
    "openai = ChatOpenAI(\n",
    "    model_name=\"gpt-4\",\n",
    "    openai_api_key=os.environ[\"OPENAI_API_KEY\"],\n",
    "    temperature=0,\n",
    "    verbose=True,\n",
    ")"
   ]
  },
  {
   "cell_type": "code",
   "execution_count": 77,
   "metadata": {},
   "outputs": [],
   "source": [
    "class WorkExperience(BaseModel):\n",
    "    title: str = Field(description=\"The title of the position\")\n",
    "    company: str = Field(description=\"The company of the position\")\n",
    "    bullet_points: List[str] = Field(description=\"The list of text that describes the experience\")\n",
    "\n",
    "class Education(BaseModel):\n",
    "    school: str = Field(description=\"The school of the education\")\n",
    "    degree: str = Field(description=\"The degree of the education\")\n",
    "    major: str = Field(description=\"The major of the education\")\n",
    "    bullet_points: List[str] = Field(description=\"The list of text that describes the education\")\n",
    "\n",
    "class PersonalProject(BaseModel):\n",
    "    title: str = Field(description=\"The title of the project\")\n",
    "    bullet_points: List[str] = Field(description=\"The list of text that describes the project and the canditate's contribution\")\n",
    "\n",
    "class Summary(BaseModel):\n",
    "    text: List[str] = Field(description=\"The summary or highlight of the resume which usually appears at the top or buttom of the resume\")\n",
    "\n",
    "class Skills(BaseModel):\n",
    "    text: List[str] = Field(description=\"The list of skills that the candidate has\")\n",
    "\n",
    "class SegmentedResume(BaseModel):\n",
    "    work_experiences: List[WorkExperience] = Field(description=\"The work experience section of the resume\")\n",
    "    educations: List[Education] = Field(description=\"The education section of the resume\")\n",
    "    personal_projects: Optional[List[PersonalProject]] = Field(description=\"The project section of the resume. It can be personal project, research project, case study or attended competition\")\n",
    "    summary: Optional[Summary] = Field(description=\"The summary section of the resume\")\n",
    "    skills: Optional[Skills] = Field(description=\"The skills section of the resume\")"
   ]
  },
  {
   "cell_type": "code",
   "execution_count": 78,
   "metadata": {},
   "outputs": [],
   "source": [
    "parser = PydanticOutputParser(pydantic_object=SegmentedResume)"
   ]
  },
  {
   "cell_type": "code",
   "execution_count": 79,
   "metadata": {},
   "outputs": [
    {
     "name": "stdout",
     "output_type": "stream",
     "text": [
      "The output should be formatted as a JSON instance that conforms to the JSON schema below.\n",
      "\n",
      "As an example, for the schema {\"properties\": {\"foo\": {\"title\": \"Foo\", \"description\": \"a list of strings\", \"type\": \"array\", \"items\": {\"type\": \"string\"}}}, \"required\": [\"foo\"]}}\n",
      "the object {\"foo\": [\"bar\", \"baz\"]} is a well-formatted instance of the schema. The object {\"properties\": {\"foo\": [\"bar\", \"baz\"]}} is not well-formatted.\n",
      "\n",
      "Here is the output schema:\n",
      "```\n",
      "{\"properties\": {\"work_experiences\": {\"title\": \"Work Experiences\", \"description\": \"The work experience section of the resume\", \"type\": \"array\", \"items\": {\"$ref\": \"#/definitions/WorkExperience\"}}, \"educations\": {\"title\": \"Educations\", \"description\": \"The education section of the resume\", \"type\": \"array\", \"items\": {\"$ref\": \"#/definitions/Education\"}}, \"personal_projects\": {\"title\": \"Personal Projects\", \"description\": \"The project section of the resume. It can be personal project, research project, case study or attended competition\", \"type\": \"array\", \"items\": {\"$ref\": \"#/definitions/PersonalProject\"}}, \"summary\": {\"title\": \"Summary\", \"description\": \"The summary section of the resume\", \"allOf\": [{\"$ref\": \"#/definitions/Summary\"}]}, \"skills\": {\"title\": \"Skills\", \"description\": \"The skills section of the resume\", \"allOf\": [{\"$ref\": \"#/definitions/Skills\"}]}}, \"required\": [\"work_experiences\", \"educations\"], \"definitions\": {\"WorkExperience\": {\"title\": \"WorkExperience\", \"type\": \"object\", \"properties\": {\"title\": {\"title\": \"Title\", \"description\": \"The title of the position\", \"type\": \"string\"}, \"company\": {\"title\": \"Company\", \"description\": \"The company of the position\", \"type\": \"string\"}, \"bullet_points\": {\"title\": \"Bullet Points\", \"description\": \"The list of text that describes the experience\", \"type\": \"array\", \"items\": {\"type\": \"string\"}}}, \"required\": [\"title\", \"company\", \"bullet_points\"]}, \"Education\": {\"title\": \"Education\", \"type\": \"object\", \"properties\": {\"school\": {\"title\": \"School\", \"description\": \"The school of the education\", \"type\": \"string\"}, \"degree\": {\"title\": \"Degree\", \"description\": \"The degree of the education\", \"type\": \"string\"}, \"major\": {\"title\": \"Major\", \"description\": \"The major of the education\", \"type\": \"string\"}, \"bullet_points\": {\"title\": \"Bullet Points\", \"description\": \"The list of text that describes the education\", \"type\": \"array\", \"items\": {\"type\": \"string\"}}}, \"required\": [\"school\", \"degree\", \"major\", \"bullet_points\"]}, \"PersonalProject\": {\"title\": \"PersonalProject\", \"type\": \"object\", \"properties\": {\"title\": {\"title\": \"Title\", \"description\": \"The title of the project\", \"type\": \"string\"}, \"bullet_points\": {\"title\": \"Bullet Points\", \"description\": \"The list of text that describes the project and the canditate's contribution\", \"type\": \"array\", \"items\": {\"type\": \"string\"}}}, \"required\": [\"title\", \"bullet_points\"]}, \"Summary\": {\"title\": \"Summary\", \"type\": \"object\", \"properties\": {\"text\": {\"title\": \"Text\", \"description\": \"The summary or highlight of the resume which usually appears at the top or buttom of the resume\", \"type\": \"array\", \"items\": {\"type\": \"string\"}}}, \"required\": [\"text\"]}, \"Skills\": {\"title\": \"Skills\", \"type\": \"object\", \"properties\": {\"text\": {\"title\": \"Text\", \"description\": \"The list of skills that the candidate has\", \"type\": \"array\", \"items\": {\"type\": \"string\"}}}, \"required\": [\"text\"]}}}\n",
      "```\n"
     ]
    }
   ],
   "source": [
    "print(parser.get_format_instructions())"
   ]
  },
  {
   "attachments": {},
   "cell_type": "markdown",
   "metadata": {},
   "source": [
    "### Strategy 1"
   ]
  },
  {
   "cell_type": "code",
   "execution_count": 3,
   "metadata": {},
   "outputs": [],
   "source": [
    "with open('../data/resume_txt/jiawei_wang.txt') as f:\n",
    "    resume = f.read()"
   ]
  },
  {
   "cell_type": "code",
   "execution_count": 84,
   "metadata": {},
   "outputs": [],
   "source": [
    "system_template = \"\"\"\n",
    "You are an experienced career consultalt who helps clients to improve their resumes.\n",
    "You should be familiar with the general structure of a resume and the use of professional language.\n",
    "When you are asked to provide evaluation or suggestion, make sure your are critical and specific.\n",
    "Focus on the use of professional language and the relevancy to the job description.\n",
    "REMEMBER DO NOT make things up or create fake experiences. \n",
    "\"\"\"\n",
    "user_teamplate = \"\"\"\n",
    "You are an experienced career consultalt helping clients with their resumes.\n",
    "First, let's understand the client's background by reading the resume. \n",
    "Your job is to read the resume and segment the resume into different sections.\n",
    "A general resume should at least have work experience and education sections. \n",
    "It may also have additional sections such as personal projects, summary and skills.\n",
    "Segment the given resume into the sections mentioned above.\n",
    "If you think that one section is missing, just DO NOT include the segment key in the output\n",
    "{json_format}\n",
    "\n",
    "resume: {resume_text}\n",
    "\"\"\"\n",
    "system_prompt = SystemMessagePromptTemplate.from_template(system_template.strip())\n",
    "user_prompt = HumanMessagePromptTemplate.from_template(user_teamplate.strip())\n",
    "resume_analyzer_prompt_1 = ChatPromptTemplate(input_variables=[\"json_format\", \"resume_text\"], messages=[system_prompt, user_prompt])\n",
    "chain_analyze_1 = LLMChain(llm=openai, prompt=resume_analyzer_prompt_1)"
   ]
  },
  {
   "cell_type": "code",
   "execution_count": 85,
   "metadata": {},
   "outputs": [
    {
     "name": "stdout",
     "output_type": "stream",
     "text": [
      "2600\n"
     ]
    }
   ],
   "source": [
    "output = count_tokens(chain_analyze_1, {\"resume_text\": resume, \"json_format\": parser.get_format_instructions()})\n",
    "print(output[\"token_count\"])"
   ]
  },
  {
   "cell_type": "code",
   "execution_count": 86,
   "metadata": {},
   "outputs": [
    {
     "name": "stdout",
     "output_type": "stream",
     "text": [
      "{\n",
      "  \"work_experiences\": [\n",
      "    {\n",
      "      \"title\": \"Banking Advisor\",\n",
      "      \"company\": \"Royal bank of Canada\",\n",
      "      \"bullet_points\": [\n",
      "        \"Assisted clients with various questions and concerns related to their accounts and bank products.\",\n",
      "        \"Accurately processed daily transactions (deposits, withdrawals, money transfers, payments, etc.)\",\n",
      "        \"Analyzed client needs and presented appropriate financing solutions.\",\n",
      "        \"Ability to work under pressure and built ongoing relationships with clients.\",\n",
      "        \"Ability to work well independently and in group settings.\"\n",
      "      ]\n",
      "    },\n",
      "    {\n",
      "      \"title\": \"Bookkeeper\",\n",
      "      \"company\": \"Viceroy Homes\",\n",
      "      \"bullet_points\": [\n",
      "        \"Recording transactions and post them to various accounts.\",\n",
      "        \"Processing payments and issuing invoice.\",\n",
      "        \"Conduct periodic reconciliations of all accounts to ensure their accuracy.\",\n",
      "        \"Provide clerical and administrative support to management as requested.\"\n",
      "      ]\n",
      "    },\n",
      "    {\n",
      "      \"title\": \"CVITP (Community Volunteer Income Tax Program)\",\n",
      "      \"company\": \"West Neighbourhood House\",\n",
      "      \"bullet_points\": [\n",
      "        \"Communicated with clients and collected relevant client’s information.\",\n",
      "        \"Applied basic personal tax knowledge to practice.\",\n",
      "        \"Learned using UFile program with tax filing\"\n",
      "      ]\n",
      "    },\n",
      "    {\n",
      "      \"title\": \"Inventory Supervisor\",\n",
      "      \"company\": \"WIS International\",\n",
      "      \"bullet_points\": [\n",
      "        \"Streamlined efficiency by creating and implementing manage inventory report\",\n",
      "        \"Collected, analyzed, and summarized account information in reports\",\n",
      "        \"Offered expertise in inventory management and current stock levels to internal teams and customers to facilitate accuracy and product availability.\",\n",
      "        \"Monitored and encouraged the team to achieve clients' objectives and meet organizational goals.\",\n",
      "        \"Oversaw the function associated with financial practices by applying accounting standards.\",\n",
      "        \"Filled the timesheet for all team members, prepared statements before finishing each count, and explained the forms to different clients.\",\n",
      "        \"Delivered valuable training to new staff aiming for improved inventory services and performance.\"\n",
      "      ]\n",
      "    },\n",
      "    {\n",
      "      \"title\": \"Inventory Associate\",\n",
      "      \"company\": \"WIS International\",\n",
      "      \"bullet_points\": [\n",
      "        \"Developed and integrated inventory valuation systems in coordination with key stakeholders and clients, additionally tracked and monitored goods to ensure accuracy.\",\n",
      "        \"Skillfully utilized hand-held devices and computers to maintain and update inventory levels as well as completed audits for identification and rectification of inaccuracies.\",\n",
      "        \"Maintained accurate documentation and records in line with company policies and procedures.\"\n",
      "      ]\n",
      "    }\n",
      "  ],\n",
      "  \"educations\": [\n",
      "    {\n",
      "      \"school\": \"CPA Ontario\",\n",
      "      \"degree\": \"CPA PREP Program\",\n",
      "      \"major\": \"\",\n",
      "      \"bullet_points\": []\n",
      "    },\n",
      "    {\n",
      "      \"school\": \"H&R Block\",\n",
      "      \"degree\": \"Certificate of Completion\",\n",
      "      \"major\": \"Fundamentals of Income Tax\",\n",
      "      \"bullet_points\": []\n",
      "    },\n",
      "    {\n",
      "      \"school\": \"Saint Mary's University\",\n",
      "      \"degree\": \"Bachelor of Commerce\",\n",
      "      \"major\": \"Finance\",\n",
      "      \"bullet_points\": []\n",
      "    },\n",
      "    {\n",
      "      \"school\": \"Université Catholique de l’Ouest\",\n",
      "      \"degree\": \"Exchange study\",\n",
      "      \"major\": \"French\",\n",
      "      \"bullet_points\": []\n",
      "    }\n",
      "  ],\n",
      "  \"summary\": {\n",
      "    \"text\": [\n",
      "      \"Detail-oriented and self-dedicated candidate with a Bachelor of finance degree, academic accounting background and willing to work hard while utilizing outstanding interpersonal and effective communication skills. Experienced in management of accounts payable, accounts receivable, financial reporting, and account reconciliations. Proven customer services skills that inspire customer confidence and forge effective teamwork synergies.\"\n",
      "    ]\n",
      "  },\n",
      "  \"skills\": {\n",
      "    \"text\": [\n",
      "      \"English: Business Communication\",\n",
      "      \"Mandarin: Native\"\n",
      "    ]\n",
      "  }\n",
      "}\n"
     ]
    }
   ],
   "source": [
    "print(output['result'])"
   ]
  },
  {
   "cell_type": "code",
   "execution_count": 4,
   "metadata": {},
   "outputs": [
    {
     "data": {
      "text/plain": [
       "SegmentedResume(work_experiences=[WorkExperience(title='Banking Advisor', company='Royal bank of Canada', bullet_points=['Assisted clients with various questions and concerns related to their accounts and bank products.', 'Accurately processed daily transactions (deposits, withdrawals, money transfers, payments, etc.)', 'Analyzed client needs and presented appropriate financing solutions.', 'Ability to work under pressure and built ongoing relationships with clients.', 'Ability to work well independently and in group settings.']), WorkExperience(title='Bookkeeper', company='Viceroy Homes', bullet_points=['Recording transactions and post them to various accounts.', 'Processing payments and issuing invoice.', 'Conduct periodic reconciliations of all accounts to ensure their accuracy.', 'Provide clerical and administrative support to management as requested.']), WorkExperience(title='CVITP (Community Volunteer Income Tax Program)', company='West Neighbourhood House', bullet_points=['Communicated with clients and collected relevant client’s information.', 'Applied basic personal tax knowledge to practice.', 'Learned using UFile program with tax filing']), WorkExperience(title='Inventory Supervisor', company='WIS International', bullet_points=['Streamlined efficiency by creating and implementing manage inventory report', 'Collected, analyzed, and summarized account information in reports', 'Offered expertise in inventory management and current stock levels to internal teams and customers to facilitate accuracy and product availability.', \"Monitored and encouraged the team to achieve clients' objectives and meet organizational goals.\", 'Oversaw the function associated with financial practices by applying accounting standards.', 'Filled the timesheet for all team members, prepared statements before finishing each count, and explained the forms to different clients.', 'Delivered valuable training to new staff aiming for improved inventory services and performance.']), WorkExperience(title='Inventory Associate', company='WIS International', bullet_points=['Developed and integrated inventory valuation systems in coordination with key stakeholders and clients, additionally tracked and monitored goods to ensure accuracy.', 'Skillfully utilized hand-held devices and computers to maintain and update inventory levels as well as completed audits for identification and rectification of inaccuracies.', 'Maintained accurate documentation and records in line with company policies and procedures.'])], educations=[Education(school='CPA Ontario', degree='CPA PREP Program', major='', bullet_points=[]), Education(school='H&R Block', degree='Certificate of Completion', major='Fundamentals of Income Tax', bullet_points=[]), Education(school=\"Saint Mary's University\", degree='Bachelor of Commerce', major='Finance', bullet_points=[]), Education(school='Université Catholique de l’Ouest', degree='Exchange study', major='French', bullet_points=[])], personal_projects=None, summary=Summary(text=['Detail-oriented and self-dedicated candidate with a Bachelor of finance degree, academic accounting background and willing to work hard while utilizing outstanding interpersonal and effective communication skills. Experienced in management of accounts payable, accounts receivable, financial reporting, and account reconciliations. Proven customer services skills that inspire customer confidence and forge effective teamwork synergies.']), skills=Skills(text=['English: Business Communication', 'Mandarin: Native']))"
      ]
     },
     "execution_count": 4,
     "metadata": {},
     "output_type": "execute_result"
    }
   ],
   "source": [
    "from jobgpt.resume_processor.resume_segmenter import ResumeSegmenter\n",
    "segmenter = ResumeSegmenter()\n",
    "segmenter.segment(resume)"
   ]
  },
  {
   "cell_type": "code",
   "execution_count": 1,
   "metadata": {},
   "outputs": [
    {
     "data": {
      "text/plain": [
       "[2, 3, 4]"
      ]
     },
     "execution_count": 1,
     "metadata": {},
     "output_type": "execute_result"
    }
   ],
   "source": [
    "test = [1,2,'a',3]\n",
    "[a+1 for a in test if isinstance(a, int)]"
   ]
  },
  {
   "cell_type": "code",
   "execution_count": 1,
   "metadata": {},
   "outputs": [
    {
     "name": "stdout",
     "output_type": "stream",
     "text": [
      "222\n"
     ]
    }
   ],
   "source": [
    "import tiktoken\n",
    "encoder = tiktoken.get_encoding(\"cl100k_base\")\n",
    "text = \"\"\"\n",
    "{\n",
    "Evaluation: [\n",
    "The wording in the work experience section is generally professional and appropriate.,\n",
    "Measurable results are used to describe the experience, such as building a backtesting framework and achieving a cumulative return of 130%.,\n",
    "The experience is relevant to the job description, as it involves quantitative research, trading analytics, and data visualization.,\n",
    "Some key words from the job description, such as 'business analyst', 'analytical rigour', and 'problem solving skills' are not used in the resume.\n",
    "],\n",
    "Suggestions: [\n",
    "In the first work experience, instead of 'Built backtesting framework', consider rewording it to 'Developed a backtesting framework in Python'.,\n",
    "In the first work experience, instead of 'Constructed sensitivity analysis', consider rewording it to 'Performed sensitivity analysis on option prices'.,\n",
    "In the first work experience, instead of 'Formulated Buy the Dip strategies', consider rewording it to 'Developed Buy the Dip strategies'.,\n",
    "In the second work experience, instead of 'Parsed money market rates', consider rewording it to 'Extracted money market rates'.,\n",
    "\"\"\"\n",
    "print(len(encoder.encode(text)))\n",
    "\n",
    "\n"
   ]
  }
 ],
 "metadata": {
  "kernelspec": {
   "display_name": ".venv",
   "language": "python",
   "name": "python3"
  },
  "language_info": {
   "codemirror_mode": {
    "name": "ipython",
    "version": 3
   },
   "file_extension": ".py",
   "mimetype": "text/x-python",
   "name": "python",
   "nbconvert_exporter": "python",
   "pygments_lexer": "ipython3",
   "version": "3.9.10"
  },
  "orig_nbformat": 4
 },
 "nbformat": 4,
 "nbformat_minor": 2
}
